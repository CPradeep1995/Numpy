{
 "cells": [
  {
   "cell_type": "code",
   "execution_count": 1,
   "metadata": {},
   "outputs": [],
   "source": [
    "import numpy as np"
   ]
  },
  {
   "cell_type": "code",
   "execution_count": 3,
   "metadata": {},
   "outputs": [
    {
     "name": "stdout",
     "output_type": "stream",
     "text": [
      "[0. 0. 0. 0. 0. 0. 0. 0. 0. 0.]\n",
      "[0. 0. 0. 0. 1. 0. 0. 0. 0. 0.]\n"
     ]
    }
   ],
   "source": [
    "#1. Create a null vector of size 10 but the fifth value which is 1.\n",
    "x = np.zeros(10)\n",
    "print(x)\n",
    "x[4] = 1\n",
    "print(x)"
   ]
  },
  {
   "cell_type": "code",
   "execution_count": 4,
   "metadata": {},
   "outputs": [
    {
     "name": "stdout",
     "output_type": "stream",
     "text": [
      "[10 11 12 13 14 15 16 17 18 19 20 21 22 23 24 25 26 27 28 29 30 31 32 33\n",
      " 34 35 36 37 38 39 40 41 42 43 44 45 46 47 48 49]\n"
     ]
    }
   ],
   "source": [
    "#2. Create a vector with values ranging from 10 to 49.\n",
    "v = np.arange(10,50)\n",
    "print(v)"
   ]
  },
  {
   "cell_type": "code",
   "execution_count": 7,
   "metadata": {},
   "outputs": [
    {
     "name": "stdout",
     "output_type": "stream",
     "text": [
      "[[0 1 2]\n",
      " [3 4 5]\n",
      " [6 7 8]]\n"
     ]
    }
   ],
   "source": [
    "#3. Create a 3x3 matrix with values ranging from 0 to 8\n",
    "x =  np.arange(0,9).reshape(3,3)\n",
    "print(x)"
   ]
  },
  {
   "cell_type": "code",
   "execution_count": 8,
   "metadata": {},
   "outputs": [
    {
     "name": "stdout",
     "output_type": "stream",
     "text": [
      "Indices of non zero elements are (array([0, 1, 4], dtype=int64),)\n"
     ]
    }
   ],
   "source": [
    "#4. Find indices of non-zero elements from [1,2,0,0,4,0]\n",
    "x = np.array([1,2,0,0,4,0])\n",
    "output = np.nonzero(x)\n",
    "print(\"Indices of non zero elements are\",output)"
   ]
  },
  {
   "cell_type": "code",
   "execution_count": 9,
   "metadata": {},
   "outputs": [
    {
     "name": "stdout",
     "output_type": "stream",
     "text": [
      "Original Array:\n",
      "[[0.35660169 0.82464871 0.78049833 0.84411368 0.77971186 0.9596006\n",
      "  0.19060322 0.80246619 0.86845317 0.85598158]\n",
      " [0.87732937 0.86793154 0.31375879 0.68715487 0.69028675 0.79726339\n",
      "  0.40293218 0.14877555 0.04153239 0.50015014]\n",
      " [0.67906162 0.25281924 0.23796567 0.12053136 0.4818331  0.85142555\n",
      "  0.43552755 0.14351708 0.28418907 0.80195414]\n",
      " [0.19018871 0.54040681 0.68205577 0.47941199 0.59606056 0.38135241\n",
      "  0.75095223 0.26854448 0.00668443 0.17787698]\n",
      " [0.46116362 0.2748919  0.0108379  0.01974252 0.20101817 0.92980336\n",
      "  0.0137425  0.51134913 0.8362475  0.67808178]\n",
      " [0.38136226 0.01807814 0.66264996 0.48214783 0.91209724 0.15656711\n",
      "  0.05077256 0.2833158  0.82252567 0.59694215]\n",
      " [0.22040853 0.34720563 0.26815605 0.2039019  0.62366774 0.63256536\n",
      "  0.62017417 0.38191825 0.3892343  0.6437377 ]\n",
      " [0.95624686 0.27510605 0.90003485 0.07229524 0.99132918 0.04421893\n",
      "  0.03919981 0.28966033 0.98950283 0.26755459]\n",
      " [0.82672661 0.86575422 0.36207772 0.74571441 0.02199628 0.11471304\n",
      "  0.26233353 0.07047531 0.37668604 0.62077623]\n",
      " [0.81575975 0.5800285  0.21733665 0.73091038 0.66291467 0.55305269\n",
      "  0.54997929 0.42109447 0.54146556 0.38115966]]\n",
      "Minimum and Maximum Values:\n",
      "0.006684427880014554 0.9913291833126864\n"
     ]
    }
   ],
   "source": [
    "#5. Create a 10x10 array with random values and find the minimum and maximum values.\n",
    "x = np.random.random((10,10))\n",
    "print(\"Original Array:\")\n",
    "print(x) \n",
    "xmin, xmax = x.min(), x.max()\n",
    "print(\"Minimum and Maximum Values:\")\n",
    "print(xmin, xmax)"
   ]
  },
  {
   "cell_type": "code",
   "execution_count": 10,
   "metadata": {},
   "outputs": [
    {
     "name": "stdout",
     "output_type": "stream",
     "text": [
      "[0.39131918 0.2721896  0.21980365 0.49370118 0.95999039 0.79284492\n",
      " 0.23179571 0.5033644  0.00557528 0.40512199 0.52080949 0.92946239\n",
      " 0.6035237  0.045441   0.6987576  0.99895399 0.30793496 0.55183676\n",
      " 0.8904158  0.23326251 0.13101146 0.92362045 0.60815039 0.6823561\n",
      " 0.52466239 0.95420921 0.53361005 0.73351384 0.90673847 0.24990885]\n",
      "mean of x 0.5434628567892462\n"
     ]
    }
   ],
   "source": [
    "#6. Create a random vector of size 30 and find the mean value.\n",
    "x = np.random.random(30)\n",
    "print(x)\n",
    "output = np.mean(x)\n",
    "print(\"mean of x\",output)"
   ]
  }
 ],
 "metadata": {
  "kernelspec": {
   "display_name": "Python 3",
   "language": "python",
   "name": "python3"
  },
  "language_info": {
   "codemirror_mode": {
    "name": "ipython",
    "version": 3
   },
   "file_extension": ".py",
   "mimetype": "text/x-python",
   "name": "python",
   "nbconvert_exporter": "python",
   "pygments_lexer": "ipython3",
   "version": "3.6.4"
  }
 },
 "nbformat": 4,
 "nbformat_minor": 4
}
